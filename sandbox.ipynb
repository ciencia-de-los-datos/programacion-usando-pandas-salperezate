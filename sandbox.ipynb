{
 "cells": [
  {
   "cell_type": "code",
   "execution_count": 1,
   "metadata": {},
   "outputs": [],
   "source": [
    "import pandas as pd\n",
    "\n",
    "tbl0 = pd.read_csv(\"tbl0.tsv\", sep=\"\\t\")\n",
    "tbl1 = pd.read_csv(\"tbl1.tsv\", sep=\"\\t\")\n",
    "tbl2 = pd.read_csv(\"tbl2.tsv\", sep=\"\\t\")"
   ]
  },
  {
   "cell_type": "code",
   "execution_count": 3,
   "metadata": {},
   "outputs": [
    {
     "data": {
      "text/html": [
       "<div>\n",
       "<style scoped>\n",
       "    .dataframe tbody tr th:only-of-type {\n",
       "        vertical-align: middle;\n",
       "    }\n",
       "\n",
       "    .dataframe tbody tr th {\n",
       "        vertical-align: top;\n",
       "    }\n",
       "\n",
       "    .dataframe thead th {\n",
       "        text-align: right;\n",
       "    }\n",
       "</style>\n",
       "<table border=\"1\" class=\"dataframe\">\n",
       "  <thead>\n",
       "    <tr style=\"text-align: right;\">\n",
       "      <th></th>\n",
       "      <th>_c0</th>\n",
       "      <th>_c1</th>\n",
       "      <th>_c2</th>\n",
       "      <th>_c3</th>\n",
       "    </tr>\n",
       "  </thead>\n",
       "  <tbody>\n",
       "    <tr>\n",
       "      <th>0</th>\n",
       "      <td>0</td>\n",
       "      <td>E</td>\n",
       "      <td>1</td>\n",
       "      <td>1999-02-28</td>\n",
       "    </tr>\n",
       "    <tr>\n",
       "      <th>1</th>\n",
       "      <td>1</td>\n",
       "      <td>A</td>\n",
       "      <td>2</td>\n",
       "      <td>1999-10-28</td>\n",
       "    </tr>\n",
       "    <tr>\n",
       "      <th>2</th>\n",
       "      <td>2</td>\n",
       "      <td>B</td>\n",
       "      <td>5</td>\n",
       "      <td>1998-05-02</td>\n",
       "    </tr>\n",
       "    <tr>\n",
       "      <th>3</th>\n",
       "      <td>3</td>\n",
       "      <td>A</td>\n",
       "      <td>3</td>\n",
       "      <td>1999-08-28</td>\n",
       "    </tr>\n",
       "    <tr>\n",
       "      <th>4</th>\n",
       "      <td>4</td>\n",
       "      <td>C</td>\n",
       "      <td>6</td>\n",
       "      <td>1999-12-01</td>\n",
       "    </tr>\n",
       "  </tbody>\n",
       "</table>\n",
       "</div>"
      ],
      "text/plain": [
       "   _c0 _c1  _c2         _c3\n",
       "0    0   E    1  1999-02-28\n",
       "1    1   A    2  1999-10-28\n",
       "2    2   B    5  1998-05-02\n",
       "3    3   A    3  1999-08-28\n",
       "4    4   C    6  1999-12-01"
      ]
     },
     "execution_count": 3,
     "metadata": {},
     "output_type": "execute_result"
    }
   ],
   "source": [
    "tbl0.head()"
   ]
  },
  {
   "cell_type": "code",
   "execution_count": 5,
   "metadata": {},
   "outputs": [
    {
     "name": "stdout",
     "output_type": "stream",
     "text": [
      "4.75\n"
     ]
    }
   ],
   "source": [
    "print(tbl0['_c2'].mean())\n"
   ]
  },
  {
   "cell_type": "code",
   "execution_count": 6,
   "metadata": {},
   "outputs": [
    {
     "name": "stdout",
     "output_type": "stream",
     "text": [
      "_c1\n",
      "A    4.625000\n",
      "B    5.142857\n",
      "C    5.400000\n",
      "D    3.833333\n",
      "E    4.785714\n",
      "Name: _c2, dtype: float64\n"
     ]
    }
   ],
   "source": [
    "promedio_c2 = tbl0.groupby('_c1')['_c2'].mean()\n",
    "print(promedio_c2)"
   ]
  },
  {
   "cell_type": "code",
   "execution_count": 21,
   "metadata": {},
   "outputs": [
    {
     "name": "stdout",
     "output_type": "stream",
     "text": [
      "['A', 'B', 'C', 'D', 'E', 'F', 'G']\n"
     ]
    }
   ],
   "source": [
    "valores_unicos = tbl1['_c4'].unique()\n",
    "# convertir a mayusculas\n",
    "valores_unicos = [x.upper() for x in valores_unicos]\n",
    "# ordenar alfabeticamente\n",
    "valores_unicos.sort()\n",
    "print(valores_unicos)"
   ]
  },
  {
   "cell_type": "code",
   "execution_count": 28,
   "metadata": {},
   "outputs": [
    {
     "name": "stdout",
     "output_type": "stream",
     "text": [
      "    _c0 _c1  _c2         _c3  year\n",
      "0     0   E    1  1999-02-28  1999\n",
      "1     1   A    2  1999-10-28  1999\n",
      "2     2   B    5  1998-05-02  1998\n",
      "3     3   A    3  1999-08-28  1999\n",
      "4     4   C    6  1999-12-01  1999\n",
      "5     5   A    7  1998-07-28  1998\n",
      "6     6   A    9  1997-02-28  1997\n",
      "7     7   B    1  1999-05-10  1999\n",
      "8     8   E    2  1997-04-12  1997\n",
      "9     9   B    3  1999-11-23  1999\n",
      "10   10   C    7  1998-01-17  1998\n",
      "11   11   C    5  1998-12-28  1998\n",
      "12   12   D    3  1999-10-15  1999\n",
      "13   13   E    8  1998-11-01  1998\n",
      "14   14   B    9  1999-08-12  1999\n",
      "15   15   D    1  1997-12-01  1997\n",
      "16   16   E    3  1997-07-28  1997\n",
      "17   17   D    5  1998-08-12  1998\n",
      "18   18   E    8  1999-08-24  1999\n",
      "19   19   E    9  1998-01-23  1998\n",
      "20   20   E    7  1999-06-22  1999\n",
      "21   21   E    3  1999-04-24  1999\n",
      "22   22   D    5  1999-06-25  1999\n",
      "23   23   A    1  1999-08-25  1999\n",
      "24   24   E    4  1997-07-26  1997\n",
      "25   25   E    6  1997-09-24  1997\n",
      "26   26   A    8  1997-09-28  1997\n",
      "27   27   E    5  1999-06-22  1999\n",
      "28   28   A    6  1999-07-29  1999\n",
      "29   29   C    0  1999-08-22  1999\n",
      "30   30   A    1  1998-04-26  1998\n",
      "31   31   D    2  1998-02-24  1998\n",
      "32   32   E    5  1999-03-24  1999\n",
      "33   33   B    4  1998-03-23  1998\n",
      "34   34   B    6  1999-04-21  1999\n",
      "35   35   D    7  1999-02-29  1999\n",
      "36   36   B    8  1997-05-21  1997\n",
      "37   37   C    9  1997-07-22  1997\n",
      "38   38   E    1  1999-09-28  1999\n",
      "39   39   E    5  1998-01-26  1998\n"
     ]
    }
   ],
   "source": [
    "# separar la columna _c3 por - y tomar el primer elemento y agregarlo como una columna\n",
    "tbl0['year'] = tbl0['_c3'].str.split('-').str[0]\n",
    "print(tbl0)"
   ]
  },
  {
   "cell_type": "code",
   "execution_count": 34,
   "metadata": {},
   "outputs": [
    {
     "data": {
      "text/plain": [
       "_c1\n",
       "A                2:3:7:9:1:8:6:1\n",
       "B                  5:1:3:9:4:6:8\n",
       "C                      6:7:5:0:9\n",
       "D                    3:1:5:5:2:7\n",
       "E    1:2:8:3:8:9:7:3:4:6:5:5:1:5\n",
       "Name: _c2, dtype: object"
      ]
     },
     "execution_count": 34,
     "metadata": {},
     "output_type": "execute_result"
    }
   ],
   "source": [
    "tbl0.groupby('_c1').agg(lambda x: ':'.join(map(str, x)))['_c2']"
   ]
  }
 ],
 "metadata": {
  "kernelspec": {
   "display_name": ".venv",
   "language": "python",
   "name": "python3"
  },
  "language_info": {
   "codemirror_mode": {
    "name": "ipython",
    "version": 3
   },
   "file_extension": ".py",
   "mimetype": "text/x-python",
   "name": "python",
   "nbconvert_exporter": "python",
   "pygments_lexer": "ipython3",
   "version": "3.11.0"
  },
  "orig_nbformat": 4
 },
 "nbformat": 4,
 "nbformat_minor": 2
}
